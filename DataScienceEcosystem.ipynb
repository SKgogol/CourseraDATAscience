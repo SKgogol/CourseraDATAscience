{
 "cells": [
  {
   "cell_type": "markdown",
   "id": "19f3de25-9329-4ff5-80d6-131dc4de6131",
   "metadata": {},
   "source": [
    "# Data Science Tools and Ecosystems "
   ]
  },
  {
   "cell_type": "markdown",
   "id": "9b3f0e38-a619-4666-bbcb-c7cdd0dc5c16",
   "metadata": {},
   "source": [
    "##### In this notebook, Data Science Tools and Ecosystem are summarized.\n"
   ]
  },
  {
   "cell_type": "markdown",
   "id": "17a7debe-b144-4b24-b916-008345d16ca4",
   "metadata": {},
   "source": [
    "**Objective:**\n",
    "* List popular languages for Data Science\n",
    "* List of commonly used libraries used by Data Scientists include\n",
    "* List of some data science tools\n",
    "* Examples of Arithmatic Expressions"
   ]
  },
  {
   "cell_type": "markdown",
   "id": "e6bd3045-0b57-4332-b8ee-253dc93de451",
   "metadata": {},
   "source": [
    "Some of the popular languages that Data Scientists use are:\n",
    "1. python\n",
    "2. R\n",
    "3. Scala"
   ]
  },
  {
   "cell_type": "markdown",
   "id": "2b66ae4f-c484-4879-bef1-ce147e7f13fa",
   "metadata": {},
   "source": [
    "Some of the commonly used libraries used by Data Scientists include:\n",
    "1. numpy\n",
    "2. pandas\n",
    "3. pytorch\n",
    "4. Scify\n",
    "5. Tensorflow"
   ]
  },
  {
   "cell_type": "markdown",
   "id": "2dec6ef4-fd9a-42da-97cf-3bccde3a2dd5",
   "metadata": {},
   "source": [
    "<table>\n",
    "    <tr><th>Data Science Tools</th></tr>\n",
    "    <tr><td>Pandas</td></tr>\n",
    "    <tr><td>Matplotlib</td></tr>\n",
    "    <tr><td>Seaborn</td></tr>\n",
    "</table>\n",
    "    \n",
    "        \n",
    "        "
   ]
  },
  {
   "cell_type": "markdown",
   "id": "fa915b11-fa5a-434a-b840-2e7a698a8e12",
   "metadata": {},
   "source": [
    "### Below are a few examples of evaluating arithmetic expressions in Python:"
   ]
  },
  {
   "cell_type": "code",
   "execution_count": 3,
   "id": "b01ba87e-786b-4cd1-9063-1df3095d2a85",
   "metadata": {
    "tags": []
   },
   "outputs": [
    {
     "data": {
      "text/plain": [
       "17"
      ]
     },
     "execution_count": 3,
     "metadata": {},
     "output_type": "execute_result"
    }
   ],
   "source": [
    "# This a simple arithmetic expression to mutiply then add integers.\n",
    "(3*4)+5"
   ]
  },
  {
   "cell_type": "code",
   "execution_count": 4,
   "id": "9c32e569-ea56-404e-b989-293e27c4a63c",
   "metadata": {
    "tags": []
   },
   "outputs": [
    {
     "data": {
      "text/plain": [
       "3.3333333333333335"
      ]
     },
     "execution_count": 4,
     "metadata": {},
     "output_type": "execute_result"
    }
   ],
   "source": [
    "# This will convert 200 minutes to hours by diving by 60\n",
    "200/60"
   ]
  },
  {
   "cell_type": "markdown",
   "id": "a3fad1f1-d384-4554-ac9c-6eeac6d37713",
   "metadata": {},
   "source": [
    "## Author :\n",
    "Sounak Kundu"
   ]
  },
  {
   "cell_type": "code",
   "execution_count": null,
   "id": "548fdc2a-4957-4fe6-881f-d229905dffaf",
   "metadata": {},
   "outputs": [],
   "source": []
  }
 ],
 "metadata": {
  "kernelspec": {
   "display_name": "Python",
   "language": "python",
   "name": "conda-env-python-py"
  },
  "language_info": {
   "codemirror_mode": {
    "name": "ipython",
    "version": 3
   },
   "file_extension": ".py",
   "mimetype": "text/x-python",
   "name": "python",
   "nbconvert_exporter": "python",
   "pygments_lexer": "ipython3",
   "version": "3.7.12"
  }
 },
 "nbformat": 4,
 "nbformat_minor": 5
}
